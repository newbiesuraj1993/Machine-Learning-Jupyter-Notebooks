{
 "cells": [
  {
   "cell_type": "code",
   "execution_count": 1,
   "metadata": {},
   "outputs": [],
   "source": [
    "import pandas as pd\n",
    "import numpy as np\n",
    "import matplotlib.pyplot as plt"
   ]
  },
  {
   "cell_type": "code",
   "execution_count": 538,
   "metadata": {},
   "outputs": [],
   "source": [
    "df = pd.read_excel('F:\\BackUpData\\Project1\\Participants_Data_Used_Cars\\Data_Test.xlsx')"
   ]
  },
  {
   "cell_type": "code",
   "execution_count": 539,
   "metadata": {},
   "outputs": [
    {
     "data": {
      "text/html": [
       "<div>\n",
       "<style scoped>\n",
       "    .dataframe tbody tr th:only-of-type {\n",
       "        vertical-align: middle;\n",
       "    }\n",
       "\n",
       "    .dataframe tbody tr th {\n",
       "        vertical-align: top;\n",
       "    }\n",
       "\n",
       "    .dataframe thead th {\n",
       "        text-align: right;\n",
       "    }\n",
       "</style>\n",
       "<table border=\"1\" class=\"dataframe\">\n",
       "  <thead>\n",
       "    <tr style=\"text-align: right;\">\n",
       "      <th></th>\n",
       "      <th>Name</th>\n",
       "      <th>Location</th>\n",
       "      <th>Year</th>\n",
       "      <th>Kilometers_Driven</th>\n",
       "      <th>Fuel_Type</th>\n",
       "      <th>Transmission</th>\n",
       "      <th>Owner_Type</th>\n",
       "      <th>Mileage</th>\n",
       "      <th>Engine</th>\n",
       "      <th>Power</th>\n",
       "      <th>Seats</th>\n",
       "      <th>New_Price</th>\n",
       "    </tr>\n",
       "  </thead>\n",
       "  <tbody>\n",
       "    <tr>\n",
       "      <th>0</th>\n",
       "      <td>Maruti Alto K10 LXI CNG</td>\n",
       "      <td>Delhi</td>\n",
       "      <td>2014</td>\n",
       "      <td>40929</td>\n",
       "      <td>CNG</td>\n",
       "      <td>Manual</td>\n",
       "      <td>First</td>\n",
       "      <td>32.26 km/kg</td>\n",
       "      <td>998.0</td>\n",
       "      <td>58.2</td>\n",
       "      <td>4.0</td>\n",
       "      <td>NaN</td>\n",
       "    </tr>\n",
       "    <tr>\n",
       "      <th>1</th>\n",
       "      <td>Maruti Alto 800 2016-2019 LXI</td>\n",
       "      <td>Coimbatore</td>\n",
       "      <td>2013</td>\n",
       "      <td>54493</td>\n",
       "      <td>Petrol</td>\n",
       "      <td>Manual</td>\n",
       "      <td>Second</td>\n",
       "      <td>24.7 kmpl</td>\n",
       "      <td>796.0</td>\n",
       "      <td>47.3</td>\n",
       "      <td>5.0</td>\n",
       "      <td>NaN</td>\n",
       "    </tr>\n",
       "    <tr>\n",
       "      <th>2</th>\n",
       "      <td>Toyota Innova Crysta Touring Sport 2.4 MT</td>\n",
       "      <td>Mumbai</td>\n",
       "      <td>2017</td>\n",
       "      <td>34000</td>\n",
       "      <td>Diesel</td>\n",
       "      <td>Manual</td>\n",
       "      <td>First</td>\n",
       "      <td>13.68 kmpl</td>\n",
       "      <td>2393.0</td>\n",
       "      <td>147.8</td>\n",
       "      <td>7.0</td>\n",
       "      <td>25.27</td>\n",
       "    </tr>\n",
       "    <tr>\n",
       "      <th>3</th>\n",
       "      <td>Toyota Etios Liva GD</td>\n",
       "      <td>Hyderabad</td>\n",
       "      <td>2012</td>\n",
       "      <td>139000</td>\n",
       "      <td>Diesel</td>\n",
       "      <td>Manual</td>\n",
       "      <td>First</td>\n",
       "      <td>23.59 kmpl</td>\n",
       "      <td>1364.0</td>\n",
       "      <td>null</td>\n",
       "      <td>5.0</td>\n",
       "      <td>NaN</td>\n",
       "    </tr>\n",
       "    <tr>\n",
       "      <th>4</th>\n",
       "      <td>Hyundai i20 Magna</td>\n",
       "      <td>Mumbai</td>\n",
       "      <td>2014</td>\n",
       "      <td>29000</td>\n",
       "      <td>Petrol</td>\n",
       "      <td>Manual</td>\n",
       "      <td>First</td>\n",
       "      <td>18.5 kmpl</td>\n",
       "      <td>1197.0</td>\n",
       "      <td>82.85</td>\n",
       "      <td>5.0</td>\n",
       "      <td>NaN</td>\n",
       "    </tr>\n",
       "  </tbody>\n",
       "</table>\n",
       "</div>"
      ],
      "text/plain": [
       "                                        Name    Location  Year  \\\n",
       "0                    Maruti Alto K10 LXI CNG       Delhi  2014   \n",
       "1              Maruti Alto 800 2016-2019 LXI  Coimbatore  2013   \n",
       "2  Toyota Innova Crysta Touring Sport 2.4 MT      Mumbai  2017   \n",
       "3                       Toyota Etios Liva GD   Hyderabad  2012   \n",
       "4                          Hyundai i20 Magna      Mumbai  2014   \n",
       "\n",
       "   Kilometers_Driven Fuel_Type Transmission Owner_Type      Mileage  Engine  \\\n",
       "0              40929       CNG       Manual      First  32.26 km/kg   998.0   \n",
       "1              54493    Petrol       Manual     Second    24.7 kmpl   796.0   \n",
       "2              34000    Diesel       Manual      First   13.68 kmpl  2393.0   \n",
       "3             139000    Diesel       Manual      First   23.59 kmpl  1364.0   \n",
       "4              29000    Petrol       Manual      First    18.5 kmpl  1197.0   \n",
       "\n",
       "   Power  Seats  New_Price  \n",
       "0   58.2    4.0        NaN  \n",
       "1   47.3    5.0        NaN  \n",
       "2  147.8    7.0      25.27  \n",
       "3  null     5.0        NaN  \n",
       "4  82.85    5.0        NaN  "
      ]
     },
     "execution_count": 539,
     "metadata": {},
     "output_type": "execute_result"
    }
   ],
   "source": [
    "df.head()"
   ]
  },
  {
   "cell_type": "code",
   "execution_count": 540,
   "metadata": {},
   "outputs": [
    {
     "name": "stdout",
     "output_type": "stream",
     "text": [
      "<class 'pandas.core.frame.DataFrame'>\n",
      "RangeIndex: 1234 entries, 0 to 1233\n",
      "Data columns (total 12 columns):\n",
      "Name                 1234 non-null object\n",
      "Location             1234 non-null object\n",
      "Year                 1234 non-null int64\n",
      "Kilometers_Driven    1234 non-null int64\n",
      "Fuel_Type            1234 non-null object\n",
      "Transmission         1234 non-null object\n",
      "Owner_Type           1234 non-null object\n",
      "Mileage              1234 non-null object\n",
      "Engine               1224 non-null float64\n",
      "Power                1224 non-null object\n",
      "Seats                1223 non-null float64\n",
      "New_Price            182 non-null float64\n",
      "dtypes: float64(3), int64(2), object(7)\n",
      "memory usage: 115.8+ KB\n"
     ]
    }
   ],
   "source": [
    "df.info()"
   ]
  },
  {
   "cell_type": "code",
   "execution_count": 541,
   "metadata": {},
   "outputs": [],
   "source": [
    "name_list=[]\n",
    "for i in df.Name:\n",
    "    temp=i.split()\n",
    "    name_list.append(temp[0])\n",
    "df['Make']=name_list"
   ]
  },
  {
   "cell_type": "code",
   "execution_count": 542,
   "metadata": {},
   "outputs": [
    {
     "data": {
      "text/plain": [
       "Maruti           233\n",
       "Hyundai          233\n",
       "Honda            135\n",
       "Toyota            96\n",
       "Mercedes-Benz     62\n",
       "Volkswagen        59\n",
       "Mahindra          59\n",
       "Ford              51\n",
       "Audi              49\n",
       "BMW               45\n",
       "Tata              42\n",
       "Chevrolet         30\n",
       "Skoda             29\n",
       "Nissan            26\n",
       "Renault           25\n",
       "Fiat              10\n",
       "Mitsubishi         9\n",
       "Jaguar             8\n",
       "Land               7\n",
       "Volvo              7\n",
       "Mini               5\n",
       "Jeep               4\n",
       "Datsun             4\n",
       "Bentley            1\n",
       "Hindustan          1\n",
       "OpelCorsa          1\n",
       "Porsche            1\n",
       "ISUZU              1\n",
       "Isuzu              1\n",
       "Name: Make, dtype: int64"
      ]
     },
     "execution_count": 542,
     "metadata": {},
     "output_type": "execute_result"
    }
   ],
   "source": [
    "df['Make'].value_counts()"
   ]
  },
  {
   "cell_type": "code",
   "execution_count": 543,
   "metadata": {},
   "outputs": [
    {
     "data": {
      "text/plain": [
       "Mumbai        159\n",
       "Pune          143\n",
       "Coimbatore    136\n",
       "Hyderabad     134\n",
       "Kochi         121\n",
       "Kolkata       119\n",
       "Delhi         106\n",
       "Chennai        97\n",
       "Jaipur         86\n",
       "Bangalore      82\n",
       "Ahmedabad      51\n",
       "Name: Location, dtype: int64"
      ]
     },
     "execution_count": 543,
     "metadata": {},
     "output_type": "execute_result"
    }
   ],
   "source": [
    "df['Location'].value_counts()"
   ]
  },
  {
   "cell_type": "code",
   "execution_count": 544,
   "metadata": {},
   "outputs": [
    {
     "data": {
      "text/plain": [
       "Name                    0\n",
       "Location                0\n",
       "Year                    0\n",
       "Kilometers_Driven       0\n",
       "Fuel_Type               0\n",
       "Transmission            0\n",
       "Owner_Type              0\n",
       "Mileage                 0\n",
       "Engine                 10\n",
       "Power                  10\n",
       "Seats                  11\n",
       "New_Price            1052\n",
       "Make                    0\n",
       "dtype: int64"
      ]
     },
     "execution_count": 544,
     "metadata": {},
     "output_type": "execute_result"
    }
   ],
   "source": [
    "df.isna().sum()"
   ]
  },
  {
   "cell_type": "code",
   "execution_count": 545,
   "metadata": {},
   "outputs": [],
   "source": [
    "fuelmap={'CNG':'Clean','LPG':'Clean','Petrol':'Fossil','Diesel':'Fossil','Electric':'Clean'}\n",
    "df['Fuel_Type']=df['Fuel_Type'].map(fuelmap)"
   ]
  },
  {
   "cell_type": "code",
   "execution_count": 546,
   "metadata": {},
   "outputs": [],
   "source": [
    "df['Mileage'].replace(np.nan,0,inplace=True)\n",
    "mileage_arr=[]\n",
    "for i in df['Mileage']:\n",
    "    if(i!=0):\n",
    "        if('kmpl' in str(i)):\n",
    "            temp=i.split()\n",
    "            j=int(float(temp[0])*2.35)\n",
    "            mileage_arr.append(j)\n",
    "        elif('km/kg' in str(i)):\n",
    "            temp=i.split()\n",
    "            nj=float(temp[0])*1\n",
    "            mileage_arr.append(nj)\n",
    "    else:\n",
    "        mileage_arr.append(i)\n"
   ]
  },
  {
   "cell_type": "code",
   "execution_count": 547,
   "metadata": {},
   "outputs": [
    {
     "data": {
      "text/plain": [
       "Engine         10\n",
       "Power          10\n",
       "Seats          11\n",
       "New_Price    1052\n",
       "dtype: int64"
      ]
     },
     "execution_count": 547,
     "metadata": {},
     "output_type": "execute_result"
    }
   ],
   "source": [
    "null_columns=df.columns[df.isnull().any()]\n",
    "df[null_columns].isnull().sum()"
   ]
  },
  {
   "cell_type": "code",
   "execution_count": 548,
   "metadata": {},
   "outputs": [],
   "source": [
    "df['Mileage']=mileage_arr"
   ]
  },
  {
   "cell_type": "code",
   "execution_count": 549,
   "metadata": {},
   "outputs": [],
   "source": [
    "df['New_Price'].replace(np.nan,0,inplace=True)\n",
    "df['Engine'].replace(np.nan,0,inplace=True)\n",
    "#df['Power'].replace(np.nan,0,inplace=True)"
   ]
  },
  {
   "cell_type": "code",
   "execution_count": 550,
   "metadata": {},
   "outputs": [],
   "source": [
    "name_list=df['Name']\n",
    "name_list=name_list.tolist()"
   ]
  },
  {
   "cell_type": "code",
   "execution_count": 551,
   "metadata": {},
   "outputs": [],
   "source": [
    "df_make=df.groupby('Make').mean()['Engine']\n",
    "df_make_dict=df_make.to_dict()\n",
    "index=0\n",
    "for i in df['Engine']:\n",
    "    #print(df['Make'][index])\n",
    "    if(i==0):\n",
    "        i=df_make_dict[df['Make'][index]]\n",
    "    index=index+1"
   ]
  },
  {
   "cell_type": "code",
   "execution_count": 552,
   "metadata": {},
   "outputs": [
    {
     "data": {
      "text/html": [
       "<div>\n",
       "<style scoped>\n",
       "    .dataframe tbody tr th:only-of-type {\n",
       "        vertical-align: middle;\n",
       "    }\n",
       "\n",
       "    .dataframe tbody tr th {\n",
       "        vertical-align: top;\n",
       "    }\n",
       "\n",
       "    .dataframe thead th {\n",
       "        text-align: right;\n",
       "    }\n",
       "</style>\n",
       "<table border=\"1\" class=\"dataframe\">\n",
       "  <thead>\n",
       "    <tr style=\"text-align: right;\">\n",
       "      <th></th>\n",
       "      <th>Year</th>\n",
       "      <th>Kilometers_Driven</th>\n",
       "      <th>Mileage</th>\n",
       "      <th>Engine</th>\n",
       "      <th>Seats</th>\n",
       "      <th>New_Price</th>\n",
       "    </tr>\n",
       "    <tr>\n",
       "      <th>Make</th>\n",
       "      <th></th>\n",
       "      <th></th>\n",
       "      <th></th>\n",
       "      <th></th>\n",
       "      <th></th>\n",
       "      <th></th>\n",
       "    </tr>\n",
       "  </thead>\n",
       "  <tbody>\n",
       "    <tr>\n",
       "      <th>Audi</th>\n",
       "      <td>2013.673469</td>\n",
       "      <td>60948.183673</td>\n",
       "      <td>37.612245</td>\n",
       "      <td>2070.591837</td>\n",
       "      <td>5.040816</td>\n",
       "      <td>5.393878</td>\n",
       "    </tr>\n",
       "    <tr>\n",
       "      <th>BMW</th>\n",
       "      <td>2013.333333</td>\n",
       "      <td>55810.088889</td>\n",
       "      <td>39.311111</td>\n",
       "      <td>2270.000000</td>\n",
       "      <td>4.906977</td>\n",
       "      <td>10.656889</td>\n",
       "    </tr>\n",
       "    <tr>\n",
       "      <th>Bentley</th>\n",
       "      <td>2008.000000</td>\n",
       "      <td>31200.000000</td>\n",
       "      <td>23.000000</td>\n",
       "      <td>5998.000000</td>\n",
       "      <td>5.000000</td>\n",
       "      <td>375.000000</td>\n",
       "    </tr>\n",
       "    <tr>\n",
       "      <th>Chevrolet</th>\n",
       "      <td>2011.400000</td>\n",
       "      <td>67337.800000</td>\n",
       "      <td>41.566667</td>\n",
       "      <td>1395.333333</td>\n",
       "      <td>5.533333</td>\n",
       "      <td>0.000000</td>\n",
       "    </tr>\n",
       "    <tr>\n",
       "      <th>Datsun</th>\n",
       "      <td>2016.000000</td>\n",
       "      <td>30250.000000</td>\n",
       "      <td>47.750000</td>\n",
       "      <td>1098.250000</td>\n",
       "      <td>5.500000</td>\n",
       "      <td>5.490000</td>\n",
       "    </tr>\n",
       "    <tr>\n",
       "      <th>Fiat</th>\n",
       "      <td>2013.300000</td>\n",
       "      <td>53190.200000</td>\n",
       "      <td>40.500000</td>\n",
       "      <td>1163.600000</td>\n",
       "      <td>4.888889</td>\n",
       "      <td>2.651000</td>\n",
       "    </tr>\n",
       "    <tr>\n",
       "      <th>Ford</th>\n",
       "      <td>2012.980392</td>\n",
       "      <td>58744.078431</td>\n",
       "      <td>43.098039</td>\n",
       "      <td>1501.058824</td>\n",
       "      <td>5.156863</td>\n",
       "      <td>0.795882</td>\n",
       "    </tr>\n",
       "    <tr>\n",
       "      <th>Hindustan</th>\n",
       "      <td>1996.000000</td>\n",
       "      <td>65000.000000</td>\n",
       "      <td>33.000000</td>\n",
       "      <td>1995.000000</td>\n",
       "      <td>5.000000</td>\n",
       "      <td>0.000000</td>\n",
       "    </tr>\n",
       "    <tr>\n",
       "      <th>Honda</th>\n",
       "      <td>2013.148148</td>\n",
       "      <td>56661.940741</td>\n",
       "      <td>43.429630</td>\n",
       "      <td>1506.488889</td>\n",
       "      <td>5.194030</td>\n",
       "      <td>1.290889</td>\n",
       "    </tr>\n",
       "    <tr>\n",
       "      <th>Hyundai</th>\n",
       "      <td>2013.343348</td>\n",
       "      <td>52017.957082</td>\n",
       "      <td>42.558283</td>\n",
       "      <td>1302.240343</td>\n",
       "      <td>5.000000</td>\n",
       "      <td>1.153820</td>\n",
       "    </tr>\n",
       "    <tr>\n",
       "      <th>ISUZU</th>\n",
       "      <td>2017.000000</td>\n",
       "      <td>290000.000000</td>\n",
       "      <td>29.000000</td>\n",
       "      <td>2499.000000</td>\n",
       "      <td>5.000000</td>\n",
       "      <td>0.000000</td>\n",
       "    </tr>\n",
       "    <tr>\n",
       "      <th>Isuzu</th>\n",
       "      <td>2016.000000</td>\n",
       "      <td>45000.000000</td>\n",
       "      <td>28.000000</td>\n",
       "      <td>2999.000000</td>\n",
       "      <td>7.000000</td>\n",
       "      <td>0.000000</td>\n",
       "    </tr>\n",
       "    <tr>\n",
       "      <th>Jaguar</th>\n",
       "      <td>2015.500000</td>\n",
       "      <td>30404.375000</td>\n",
       "      <td>33.625000</td>\n",
       "      <td>2314.750000</td>\n",
       "      <td>5.000000</td>\n",
       "      <td>22.081250</td>\n",
       "    </tr>\n",
       "    <tr>\n",
       "      <th>Jeep</th>\n",
       "      <td>2017.750000</td>\n",
       "      <td>8688.000000</td>\n",
       "      <td>38.750000</td>\n",
       "      <td>1809.000000</td>\n",
       "      <td>5.000000</td>\n",
       "      <td>21.362500</td>\n",
       "    </tr>\n",
       "    <tr>\n",
       "      <th>Land</th>\n",
       "      <td>2014.000000</td>\n",
       "      <td>69542.285714</td>\n",
       "      <td>24.285714</td>\n",
       "      <td>2411.571429</td>\n",
       "      <td>5.571429</td>\n",
       "      <td>0.000000</td>\n",
       "    </tr>\n",
       "    <tr>\n",
       "      <th>Mahindra</th>\n",
       "      <td>2013.898305</td>\n",
       "      <td>60943.711864</td>\n",
       "      <td>36.338983</td>\n",
       "      <td>2056.525424</td>\n",
       "      <td>6.879310</td>\n",
       "      <td>1.691525</td>\n",
       "    </tr>\n",
       "    <tr>\n",
       "      <th>Maruti</th>\n",
       "      <td>2013.622318</td>\n",
       "      <td>56299.390558</td>\n",
       "      <td>49.007039</td>\n",
       "      <td>1122.618026</td>\n",
       "      <td>5.095238</td>\n",
       "      <td>1.316953</td>\n",
       "    </tr>\n",
       "    <tr>\n",
       "      <th>Mercedes-Benz</th>\n",
       "      <td>2013.612903</td>\n",
       "      <td>47881.822581</td>\n",
       "      <td>32.838710</td>\n",
       "      <td>2277.370968</td>\n",
       "      <td>5.080645</td>\n",
       "      <td>8.266452</td>\n",
       "    </tr>\n",
       "    <tr>\n",
       "      <th>Mini</th>\n",
       "      <td>2015.600000</td>\n",
       "      <td>22578.400000</td>\n",
       "      <td>42.800000</td>\n",
       "      <td>1717.200000</td>\n",
       "      <td>4.400000</td>\n",
       "      <td>23.218000</td>\n",
       "    </tr>\n",
       "    <tr>\n",
       "      <th>Mitsubishi</th>\n",
       "      <td>2014.111111</td>\n",
       "      <td>72470.333333</td>\n",
       "      <td>29.444444</td>\n",
       "      <td>2556.555556</td>\n",
       "      <td>6.777778</td>\n",
       "      <td>25.741111</td>\n",
       "    </tr>\n",
       "    <tr>\n",
       "      <th>Nissan</th>\n",
       "      <td>2012.961538</td>\n",
       "      <td>55201.384615</td>\n",
       "      <td>43.769231</td>\n",
       "      <td>1602.500000</td>\n",
       "      <td>4.884615</td>\n",
       "      <td>1.927308</td>\n",
       "    </tr>\n",
       "    <tr>\n",
       "      <th>OpelCorsa</th>\n",
       "      <td>2005.000000</td>\n",
       "      <td>50000.000000</td>\n",
       "      <td>33.000000</td>\n",
       "      <td>1389.000000</td>\n",
       "      <td>5.000000</td>\n",
       "      <td>0.000000</td>\n",
       "    </tr>\n",
       "    <tr>\n",
       "      <th>Porsche</th>\n",
       "      <td>2014.000000</td>\n",
       "      <td>43000.000000</td>\n",
       "      <td>35.000000</td>\n",
       "      <td>2967.000000</td>\n",
       "      <td>5.000000</td>\n",
       "      <td>0.000000</td>\n",
       "    </tr>\n",
       "    <tr>\n",
       "      <th>Renault</th>\n",
       "      <td>2014.600000</td>\n",
       "      <td>55247.880000</td>\n",
       "      <td>48.560000</td>\n",
       "      <td>1384.440000</td>\n",
       "      <td>5.120000</td>\n",
       "      <td>1.814800</td>\n",
       "    </tr>\n",
       "    <tr>\n",
       "      <th>Skoda</th>\n",
       "      <td>2013.655172</td>\n",
       "      <td>60053.586207</td>\n",
       "      <td>40.862069</td>\n",
       "      <td>1694.965517</td>\n",
       "      <td>5.000000</td>\n",
       "      <td>7.871724</td>\n",
       "    </tr>\n",
       "    <tr>\n",
       "      <th>Tata</th>\n",
       "      <td>2014.071429</td>\n",
       "      <td>70569.857143</td>\n",
       "      <td>47.547619</td>\n",
       "      <td>1254.785714</td>\n",
       "      <td>5.023810</td>\n",
       "      <td>1.423810</td>\n",
       "    </tr>\n",
       "    <tr>\n",
       "      <th>Toyota</th>\n",
       "      <td>2012.520833</td>\n",
       "      <td>83749.343750</td>\n",
       "      <td>34.239583</td>\n",
       "      <td>2208.458333</td>\n",
       "      <td>6.478723</td>\n",
       "      <td>2.744063</td>\n",
       "    </tr>\n",
       "    <tr>\n",
       "      <th>Volkswagen</th>\n",
       "      <td>2013.593220</td>\n",
       "      <td>59310.830508</td>\n",
       "      <td>42.813559</td>\n",
       "      <td>1420.745763</td>\n",
       "      <td>5.000000</td>\n",
       "      <td>1.270847</td>\n",
       "    </tr>\n",
       "    <tr>\n",
       "      <th>Volvo</th>\n",
       "      <td>2013.714286</td>\n",
       "      <td>66304.857143</td>\n",
       "      <td>31.714286</td>\n",
       "      <td>2221.714286</td>\n",
       "      <td>5.571429</td>\n",
       "      <td>0.000000</td>\n",
       "    </tr>\n",
       "  </tbody>\n",
       "</table>\n",
       "</div>"
      ],
      "text/plain": [
       "                      Year  Kilometers_Driven    Mileage       Engine  \\\n",
       "Make                                                                    \n",
       "Audi           2013.673469       60948.183673  37.612245  2070.591837   \n",
       "BMW            2013.333333       55810.088889  39.311111  2270.000000   \n",
       "Bentley        2008.000000       31200.000000  23.000000  5998.000000   \n",
       "Chevrolet      2011.400000       67337.800000  41.566667  1395.333333   \n",
       "Datsun         2016.000000       30250.000000  47.750000  1098.250000   \n",
       "Fiat           2013.300000       53190.200000  40.500000  1163.600000   \n",
       "Ford           2012.980392       58744.078431  43.098039  1501.058824   \n",
       "Hindustan      1996.000000       65000.000000  33.000000  1995.000000   \n",
       "Honda          2013.148148       56661.940741  43.429630  1506.488889   \n",
       "Hyundai        2013.343348       52017.957082  42.558283  1302.240343   \n",
       "ISUZU          2017.000000      290000.000000  29.000000  2499.000000   \n",
       "Isuzu          2016.000000       45000.000000  28.000000  2999.000000   \n",
       "Jaguar         2015.500000       30404.375000  33.625000  2314.750000   \n",
       "Jeep           2017.750000        8688.000000  38.750000  1809.000000   \n",
       "Land           2014.000000       69542.285714  24.285714  2411.571429   \n",
       "Mahindra       2013.898305       60943.711864  36.338983  2056.525424   \n",
       "Maruti         2013.622318       56299.390558  49.007039  1122.618026   \n",
       "Mercedes-Benz  2013.612903       47881.822581  32.838710  2277.370968   \n",
       "Mini           2015.600000       22578.400000  42.800000  1717.200000   \n",
       "Mitsubishi     2014.111111       72470.333333  29.444444  2556.555556   \n",
       "Nissan         2012.961538       55201.384615  43.769231  1602.500000   \n",
       "OpelCorsa      2005.000000       50000.000000  33.000000  1389.000000   \n",
       "Porsche        2014.000000       43000.000000  35.000000  2967.000000   \n",
       "Renault        2014.600000       55247.880000  48.560000  1384.440000   \n",
       "Skoda          2013.655172       60053.586207  40.862069  1694.965517   \n",
       "Tata           2014.071429       70569.857143  47.547619  1254.785714   \n",
       "Toyota         2012.520833       83749.343750  34.239583  2208.458333   \n",
       "Volkswagen     2013.593220       59310.830508  42.813559  1420.745763   \n",
       "Volvo          2013.714286       66304.857143  31.714286  2221.714286   \n",
       "\n",
       "                  Seats   New_Price  \n",
       "Make                                 \n",
       "Audi           5.040816    5.393878  \n",
       "BMW            4.906977   10.656889  \n",
       "Bentley        5.000000  375.000000  \n",
       "Chevrolet      5.533333    0.000000  \n",
       "Datsun         5.500000    5.490000  \n",
       "Fiat           4.888889    2.651000  \n",
       "Ford           5.156863    0.795882  \n",
       "Hindustan      5.000000    0.000000  \n",
       "Honda          5.194030    1.290889  \n",
       "Hyundai        5.000000    1.153820  \n",
       "ISUZU          5.000000    0.000000  \n",
       "Isuzu          7.000000    0.000000  \n",
       "Jaguar         5.000000   22.081250  \n",
       "Jeep           5.000000   21.362500  \n",
       "Land           5.571429    0.000000  \n",
       "Mahindra       6.879310    1.691525  \n",
       "Maruti         5.095238    1.316953  \n",
       "Mercedes-Benz  5.080645    8.266452  \n",
       "Mini           4.400000   23.218000  \n",
       "Mitsubishi     6.777778   25.741111  \n",
       "Nissan         4.884615    1.927308  \n",
       "OpelCorsa      5.000000    0.000000  \n",
       "Porsche        5.000000    0.000000  \n",
       "Renault        5.120000    1.814800  \n",
       "Skoda          5.000000    7.871724  \n",
       "Tata           5.023810    1.423810  \n",
       "Toyota         6.478723    2.744063  \n",
       "Volkswagen     5.000000    1.270847  \n",
       "Volvo          5.571429    0.000000  "
      ]
     },
     "execution_count": 552,
     "metadata": {},
     "output_type": "execute_result"
    }
   ],
   "source": [
    "df_make=df.groupby('Make').mean()\n",
    "df_make"
   ]
  },
  {
   "cell_type": "code",
   "execution_count": 553,
   "metadata": {},
   "outputs": [],
   "source": [
    "df['Power'].replace(np.nan,0,inplace=True)"
   ]
  },
  {
   "cell_type": "code",
   "execution_count": 554,
   "metadata": {},
   "outputs": [],
   "source": [
    "df['Power'].replace('null ',0,inplace=True)"
   ]
  },
  {
   "cell_type": "code",
   "execution_count": 555,
   "metadata": {},
   "outputs": [],
   "source": [
    "df['Power']=df['Power'].astype('float')"
   ]
  },
  {
   "cell_type": "code",
   "execution_count": 556,
   "metadata": {},
   "outputs": [],
   "source": [
    "df_make=df.groupby('Make').mean()['Power']\n",
    "df_make_dict=df_make.to_dict()\n",
    "index=0\n",
    "for i in df['Power']:\n",
    "    #print(df['Make'][index])\n",
    "    if(i==0):\n",
    "        i=df_make_dict[df['Make'][index]]\n",
    "    index=index+1"
   ]
  },
  {
   "cell_type": "code",
   "execution_count": 557,
   "metadata": {},
   "outputs": [],
   "source": [
    "df['Seats'].replace(np.nan,0,inplace=True)\n",
    "df_make=df.groupby('Make').mean()['Seats']\n",
    "df_make_dict=df_make.to_dict()\n",
    "index=0\n",
    "for i in df['Seats']:\n",
    "    #print(df['Make'][index])\n",
    "    if(i==0):\n",
    "        i=int(df_make_dict[df['Make'][index]])\n",
    "    index=index+1"
   ]
  },
  {
   "cell_type": "code",
   "execution_count": 558,
   "metadata": {},
   "outputs": [
    {
     "data": {
      "text/html": [
       "<div>\n",
       "<style scoped>\n",
       "    .dataframe tbody tr th:only-of-type {\n",
       "        vertical-align: middle;\n",
       "    }\n",
       "\n",
       "    .dataframe tbody tr th {\n",
       "        vertical-align: top;\n",
       "    }\n",
       "\n",
       "    .dataframe thead th {\n",
       "        text-align: right;\n",
       "    }\n",
       "</style>\n",
       "<table border=\"1\" class=\"dataframe\">\n",
       "  <thead>\n",
       "    <tr style=\"text-align: right;\">\n",
       "      <th></th>\n",
       "      <th>Name</th>\n",
       "      <th>Location</th>\n",
       "      <th>Year</th>\n",
       "      <th>Kilometers_Driven</th>\n",
       "      <th>Fuel_Type</th>\n",
       "      <th>Transmission</th>\n",
       "      <th>Owner_Type</th>\n",
       "      <th>Mileage</th>\n",
       "      <th>Engine</th>\n",
       "      <th>Power</th>\n",
       "      <th>Seats</th>\n",
       "      <th>New_Price</th>\n",
       "      <th>Make</th>\n",
       "    </tr>\n",
       "  </thead>\n",
       "  <tbody>\n",
       "    <tr>\n",
       "      <th>0</th>\n",
       "      <td>Maruti Alto K10 LXI CNG</td>\n",
       "      <td>Delhi</td>\n",
       "      <td>2014</td>\n",
       "      <td>40929</td>\n",
       "      <td>Clean</td>\n",
       "      <td>Manual</td>\n",
       "      <td>First</td>\n",
       "      <td>32.26</td>\n",
       "      <td>998.0</td>\n",
       "      <td>58.20</td>\n",
       "      <td>4.0</td>\n",
       "      <td>0.00</td>\n",
       "      <td>Maruti</td>\n",
       "    </tr>\n",
       "    <tr>\n",
       "      <th>1</th>\n",
       "      <td>Maruti Alto 800 2016-2019 LXI</td>\n",
       "      <td>Coimbatore</td>\n",
       "      <td>2013</td>\n",
       "      <td>54493</td>\n",
       "      <td>Fossil</td>\n",
       "      <td>Manual</td>\n",
       "      <td>Second</td>\n",
       "      <td>58.00</td>\n",
       "      <td>796.0</td>\n",
       "      <td>47.30</td>\n",
       "      <td>5.0</td>\n",
       "      <td>0.00</td>\n",
       "      <td>Maruti</td>\n",
       "    </tr>\n",
       "    <tr>\n",
       "      <th>2</th>\n",
       "      <td>Toyota Innova Crysta Touring Sport 2.4 MT</td>\n",
       "      <td>Mumbai</td>\n",
       "      <td>2017</td>\n",
       "      <td>34000</td>\n",
       "      <td>Fossil</td>\n",
       "      <td>Manual</td>\n",
       "      <td>First</td>\n",
       "      <td>32.00</td>\n",
       "      <td>2393.0</td>\n",
       "      <td>147.80</td>\n",
       "      <td>7.0</td>\n",
       "      <td>25.27</td>\n",
       "      <td>Toyota</td>\n",
       "    </tr>\n",
       "    <tr>\n",
       "      <th>3</th>\n",
       "      <td>Toyota Etios Liva GD</td>\n",
       "      <td>Hyderabad</td>\n",
       "      <td>2012</td>\n",
       "      <td>139000</td>\n",
       "      <td>Fossil</td>\n",
       "      <td>Manual</td>\n",
       "      <td>First</td>\n",
       "      <td>55.00</td>\n",
       "      <td>1364.0</td>\n",
       "      <td>0.00</td>\n",
       "      <td>5.0</td>\n",
       "      <td>0.00</td>\n",
       "      <td>Toyota</td>\n",
       "    </tr>\n",
       "    <tr>\n",
       "      <th>4</th>\n",
       "      <td>Hyundai i20 Magna</td>\n",
       "      <td>Mumbai</td>\n",
       "      <td>2014</td>\n",
       "      <td>29000</td>\n",
       "      <td>Fossil</td>\n",
       "      <td>Manual</td>\n",
       "      <td>First</td>\n",
       "      <td>43.00</td>\n",
       "      <td>1197.0</td>\n",
       "      <td>82.85</td>\n",
       "      <td>5.0</td>\n",
       "      <td>0.00</td>\n",
       "      <td>Hyundai</td>\n",
       "    </tr>\n",
       "  </tbody>\n",
       "</table>\n",
       "</div>"
      ],
      "text/plain": [
       "                                        Name    Location  Year  \\\n",
       "0                    Maruti Alto K10 LXI CNG       Delhi  2014   \n",
       "1              Maruti Alto 800 2016-2019 LXI  Coimbatore  2013   \n",
       "2  Toyota Innova Crysta Touring Sport 2.4 MT      Mumbai  2017   \n",
       "3                       Toyota Etios Liva GD   Hyderabad  2012   \n",
       "4                          Hyundai i20 Magna      Mumbai  2014   \n",
       "\n",
       "   Kilometers_Driven Fuel_Type Transmission Owner_Type  Mileage  Engine  \\\n",
       "0              40929     Clean       Manual      First    32.26   998.0   \n",
       "1              54493    Fossil       Manual     Second    58.00   796.0   \n",
       "2              34000    Fossil       Manual      First    32.00  2393.0   \n",
       "3             139000    Fossil       Manual      First    55.00  1364.0   \n",
       "4              29000    Fossil       Manual      First    43.00  1197.0   \n",
       "\n",
       "    Power  Seats  New_Price     Make  \n",
       "0   58.20    4.0       0.00   Maruti  \n",
       "1   47.30    5.0       0.00   Maruti  \n",
       "2  147.80    7.0      25.27   Toyota  \n",
       "3    0.00    5.0       0.00   Toyota  \n",
       "4   82.85    5.0       0.00  Hyundai  "
      ]
     },
     "execution_count": 558,
     "metadata": {},
     "output_type": "execute_result"
    }
   ],
   "source": [
    "df.head()"
   ]
  },
  {
   "cell_type": "code",
   "execution_count": 559,
   "metadata": {},
   "outputs": [],
   "source": [
    "df_cleaned=df.drop(['Name','Make'],axis=1)"
   ]
  },
  {
   "cell_type": "code",
   "execution_count": 560,
   "metadata": {},
   "outputs": [
    {
     "data": {
      "text/html": [
       "<div>\n",
       "<style scoped>\n",
       "    .dataframe tbody tr th:only-of-type {\n",
       "        vertical-align: middle;\n",
       "    }\n",
       "\n",
       "    .dataframe tbody tr th {\n",
       "        vertical-align: top;\n",
       "    }\n",
       "\n",
       "    .dataframe thead th {\n",
       "        text-align: right;\n",
       "    }\n",
       "</style>\n",
       "<table border=\"1\" class=\"dataframe\">\n",
       "  <thead>\n",
       "    <tr style=\"text-align: right;\">\n",
       "      <th></th>\n",
       "      <th>Location</th>\n",
       "      <th>Year</th>\n",
       "      <th>Kilometers_Driven</th>\n",
       "      <th>Fuel_Type</th>\n",
       "      <th>Transmission</th>\n",
       "      <th>Owner_Type</th>\n",
       "      <th>Mileage</th>\n",
       "      <th>Engine</th>\n",
       "      <th>Power</th>\n",
       "      <th>Seats</th>\n",
       "      <th>New_Price</th>\n",
       "    </tr>\n",
       "  </thead>\n",
       "  <tbody>\n",
       "    <tr>\n",
       "      <th>0</th>\n",
       "      <td>Delhi</td>\n",
       "      <td>2014</td>\n",
       "      <td>40929</td>\n",
       "      <td>Clean</td>\n",
       "      <td>Manual</td>\n",
       "      <td>First</td>\n",
       "      <td>32.26</td>\n",
       "      <td>998.0</td>\n",
       "      <td>58.20</td>\n",
       "      <td>4.0</td>\n",
       "      <td>0.00</td>\n",
       "    </tr>\n",
       "    <tr>\n",
       "      <th>1</th>\n",
       "      <td>Coimbatore</td>\n",
       "      <td>2013</td>\n",
       "      <td>54493</td>\n",
       "      <td>Fossil</td>\n",
       "      <td>Manual</td>\n",
       "      <td>Second</td>\n",
       "      <td>58.00</td>\n",
       "      <td>796.0</td>\n",
       "      <td>47.30</td>\n",
       "      <td>5.0</td>\n",
       "      <td>0.00</td>\n",
       "    </tr>\n",
       "    <tr>\n",
       "      <th>2</th>\n",
       "      <td>Mumbai</td>\n",
       "      <td>2017</td>\n",
       "      <td>34000</td>\n",
       "      <td>Fossil</td>\n",
       "      <td>Manual</td>\n",
       "      <td>First</td>\n",
       "      <td>32.00</td>\n",
       "      <td>2393.0</td>\n",
       "      <td>147.80</td>\n",
       "      <td>7.0</td>\n",
       "      <td>25.27</td>\n",
       "    </tr>\n",
       "    <tr>\n",
       "      <th>3</th>\n",
       "      <td>Hyderabad</td>\n",
       "      <td>2012</td>\n",
       "      <td>139000</td>\n",
       "      <td>Fossil</td>\n",
       "      <td>Manual</td>\n",
       "      <td>First</td>\n",
       "      <td>55.00</td>\n",
       "      <td>1364.0</td>\n",
       "      <td>0.00</td>\n",
       "      <td>5.0</td>\n",
       "      <td>0.00</td>\n",
       "    </tr>\n",
       "    <tr>\n",
       "      <th>4</th>\n",
       "      <td>Mumbai</td>\n",
       "      <td>2014</td>\n",
       "      <td>29000</td>\n",
       "      <td>Fossil</td>\n",
       "      <td>Manual</td>\n",
       "      <td>First</td>\n",
       "      <td>43.00</td>\n",
       "      <td>1197.0</td>\n",
       "      <td>82.85</td>\n",
       "      <td>5.0</td>\n",
       "      <td>0.00</td>\n",
       "    </tr>\n",
       "  </tbody>\n",
       "</table>\n",
       "</div>"
      ],
      "text/plain": [
       "     Location  Year  Kilometers_Driven Fuel_Type Transmission Owner_Type  \\\n",
       "0       Delhi  2014              40929     Clean       Manual      First   \n",
       "1  Coimbatore  2013              54493    Fossil       Manual     Second   \n",
       "2      Mumbai  2017              34000    Fossil       Manual      First   \n",
       "3   Hyderabad  2012             139000    Fossil       Manual      First   \n",
       "4      Mumbai  2014              29000    Fossil       Manual      First   \n",
       "\n",
       "   Mileage  Engine   Power  Seats  New_Price  \n",
       "0    32.26   998.0   58.20    4.0       0.00  \n",
       "1    58.00   796.0   47.30    5.0       0.00  \n",
       "2    32.00  2393.0  147.80    7.0      25.27  \n",
       "3    55.00  1364.0    0.00    5.0       0.00  \n",
       "4    43.00  1197.0   82.85    5.0       0.00  "
      ]
     },
     "execution_count": 560,
     "metadata": {},
     "output_type": "execute_result"
    }
   ],
   "source": [
    "df_cleaned.head()"
   ]
  },
  {
   "cell_type": "code",
   "execution_count": 561,
   "metadata": {},
   "outputs": [],
   "source": [
    "df_cleaned=pd.get_dummies(df_cleaned)"
   ]
  },
  {
   "cell_type": "code",
   "execution_count": 527,
   "metadata": {},
   "outputs": [],
   "source": [
    "X=df_cleaned.drop('Price',axis=1)"
   ]
  },
  {
   "cell_type": "code",
   "execution_count": 528,
   "metadata": {},
   "outputs": [],
   "source": [
    "y=df_cleaned['Price']"
   ]
  },
  {
   "cell_type": "code",
   "execution_count": 529,
   "metadata": {},
   "outputs": [
    {
     "name": "stderr",
     "output_type": "stream",
     "text": [
      "F:\\Softwares\\Python\\lib\\site-packages\\sklearn\\preprocessing\\data.py:645: DataConversionWarning: Data with input dtype uint8, int64, float64 were all converted to float64 by StandardScaler.\n",
      "  return self.partial_fit(X, y)\n",
      "F:\\Softwares\\Python\\lib\\site-packages\\sklearn\\base.py:464: DataConversionWarning: Data with input dtype uint8, int64, float64 were all converted to float64 by StandardScaler.\n",
      "  return self.fit(X, **fit_params).transform(X)\n"
     ]
    }
   ],
   "source": [
    "from sklearn.preprocessing import StandardScaler\n",
    "\n",
    "scaler = StandardScaler()\n",
    "X_scaled_data = scaler.fit_transform(X)"
   ]
  },
  {
   "cell_type": "code",
   "execution_count": 530,
   "metadata": {},
   "outputs": [],
   "source": [
    "from sklearn.model_selection import train_test_split\n",
    "X_train, X_test, y_train, y_test = train_test_split(X_scaled_data, y, test_size=0.3, random_state=1)"
   ]
  },
  {
   "cell_type": "code",
   "execution_count": 531,
   "metadata": {},
   "outputs": [],
   "source": [
    "from sklearn import neighbors\n",
    "from sklearn.metrics import mean_squared_error \n",
    "from math import sqrt"
   ]
  },
  {
   "cell_type": "code",
   "execution_count": 590,
   "metadata": {},
   "outputs": [
    {
     "name": "stdout",
     "output_type": "stream",
     "text": [
      "RMSE value for k=  1 is: 5.422067762960466\n",
      "RMSE value for k=  2 is: 5.066731469885603\n",
      "RMSE value for k=  3 is: 4.995671161676355\n",
      "RMSE value for k=  4 is: 4.95951334847024\n",
      "RMSE value for k=  5 is: 4.9600562507973835\n",
      "RMSE value for k=  6 is: 5.024595544279945\n",
      "RMSE value for k=  7 is: 5.00714295948947\n",
      "RMSE value for k=  8 is: 5.0805241272427635\n",
      "RMSE value for k=  9 is: 5.192540948447654\n",
      "RMSE value for k=  10 is: 5.235268936421089\n"
     ]
    }
   ],
   "source": [
    "rmse_val = [] #to store rmse values for different k\n",
    "for K in range(10):\n",
    "    K = K+1\n",
    "    model = neighbors.KNeighborsRegressor(n_neighbors = K)\n",
    "\n",
    "    model.fit(X_train, y_train)  #fit the model\n",
    "    pred=model.predict(X_test) #make prediction on test set\n",
    "    error = sqrt(mean_squared_error(y_test,pred)) #calculate rmse\n",
    "    rmse_val.append(error) #store rmse values\n",
    "    print('RMSE value for k= ' , K , 'is:', error)"
   ]
  },
  {
   "cell_type": "code",
   "execution_count": 591,
   "metadata": {},
   "outputs": [
    {
     "data": {
      "text/plain": [
       "<matplotlib.axes._subplots.AxesSubplot at 0x247580dba20>"
      ]
     },
     "execution_count": 591,
     "metadata": {},
     "output_type": "execute_result"
    },
    {
     "data": {
      "image/png": "[encoded data removed]",
      "text/plain": [
       "<Figure size 432x288 with 1 Axes>"
      ]
     },
     "metadata": {
      "needs_background": "light"
     },
     "output_type": "display_data"
    }
   ],
   "source": [
    "curve = pd.DataFrame(rmse_val) #elbow curve \n",
    "curve.plot()"
   ]
  },
  {
   "cell_type": "code",
   "execution_count": 584,
   "metadata": {},
   "outputs": [
    {
     "data": {
      "text/plain": [
       "(1234, 26)"
      ]
     },
     "execution_count": 584,
     "metadata": {},
     "output_type": "execute_result"
    }
   ],
   "source": [
    "df_cleaned.shape"
   ]
  },
  {
   "cell_type": "code",
   "execution_count": 585,
   "metadata": {},
   "outputs": [
    {
     "data": {
      "text/plain": [
       "(4213, 26)"
      ]
     },
     "execution_count": 585,
     "metadata": {},
     "output_type": "execute_result"
    }
   ],
   "source": [
    "X_train.shape"
   ]
  },
  {
   "cell_type": "code",
   "execution_count": 586,
   "metadata": {},
   "outputs": [
    {
     "data": {
      "text/plain": [
       "Index(['Year', 'Kilometers_Driven', 'Mileage', 'Engine', 'Power', 'Seats',\n",
       "       'New_Price', 'Location_Ahmedabad', 'Location_Bangalore',\n",
       "       'Location_Chennai', 'Location_Coimbatore', 'Location_Delhi',\n",
       "       'Location_Hyderabad', 'Location_Jaipur', 'Location_Kochi',\n",
       "       'Location_Kolkata', 'Location_Mumbai', 'Location_Pune',\n",
       "       'Fuel_Type_Clean', 'Fuel_Type_Fossil', 'Transmission_Automatic',\n",
       "       'Transmission_Manual', 'Owner_Type_First', 'Owner_Type_Fourth & Above',\n",
       "       'Owner_Type_Second', 'Owner_Type_Third'],\n",
       "      dtype='object')"
      ]
     },
     "execution_count": 586,
     "metadata": {},
     "output_type": "execute_result"
    }
   ],
   "source": [
    "X.columns"
   ]
  },
  {
   "cell_type": "code",
   "execution_count": 587,
   "metadata": {},
   "outputs": [
    {
     "data": {
      "text/plain": [
       "Index(['Year', 'Kilometers_Driven', 'Mileage', 'Engine', 'Power', 'Seats',\n",
       "       'New_Price', 'Location_Ahmedabad', 'Location_Bangalore',\n",
       "       'Location_Chennai', 'Location_Coimbatore', 'Location_Delhi',\n",
       "       'Location_Hyderabad', 'Location_Jaipur', 'Location_Kochi',\n",
       "       'Location_Kolkata', 'Location_Mumbai', 'Location_Pune',\n",
       "       'Fuel_Type_Clean', 'Fuel_Type_Fossil', 'Transmission_Automatic',\n",
       "       'Transmission_Manual', 'Owner_Type_First', 'Owner_Type_Fourth & Above',\n",
       "       'Owner_Type_Second', 'Owner_Type_Third'],\n",
       "      dtype='object')"
      ]
     },
     "execution_count": 587,
     "metadata": {},
     "output_type": "execute_result"
    }
   ],
   "source": [
    "df_cleaned.columns"
   ]
  },
  {
   "cell_type": "code",
   "execution_count": 567,
   "metadata": {},
   "outputs": [
    {
     "data": {
      "text/plain": [
       "(1234, 26)"
      ]
     },
     "execution_count": 567,
     "metadata": {},
     "output_type": "execute_result"
    }
   ],
   "source": [
    "df_cleaned.shape"
   ]
  },
  {
   "cell_type": "code",
   "execution_count": 502,
   "metadata": {},
   "outputs": [
    {
     "data": {
      "text/plain": [
       "(6019, 57)"
      ]
     },
     "execution_count": 502,
     "metadata": {},
     "output_type": "execute_result"
    }
   ],
   "source": [
    "X.shape"
   ]
  },
  {
   "cell_type": "code",
   "execution_count": 592,
   "metadata": {},
   "outputs": [],
   "source": [
    "pred=model.predict(df_cleaned)"
   ]
  },
  {
   "cell_type": "code",
   "execution_count": 566,
   "metadata": {},
   "outputs": [
    {
     "data": {
      "text/plain": [
       "(4213, 26)"
      ]
     },
     "execution_count": 566,
     "metadata": {},
     "output_type": "execute_result"
    }
   ],
   "source": [
    "X_train.shape"
   ]
  },
  {
   "cell_type": "code",
   "execution_count": 570,
   "metadata": {},
   "outputs": [],
   "source": [
    "df_new=pd.DataFrame({'Result':pred})"
   ]
  },
  {
   "cell_type": "code",
   "execution_count": 572,
   "metadata": {},
   "outputs": [],
   "source": [
    "df_new.to_csv('Result_New.csv')"
   ]
  },
  {
   "cell_type": "code",
   "execution_count": 593,
   "metadata": {},
   "outputs": [
    {
     "data": {
      "text/plain": [
       "array([6.035, 6.035, 6.035, ..., 6.035, 6.035, 6.035])"
      ]
     },
     "execution_count": 593,
     "metadata": {},
     "output_type": "execute_result"
    }
   ],
   "source": [
    "pred"
   ]
  },
  {
   "cell_type": "code",
   "execution_count": 589,
   "metadata": {},
   "outputs": [
    {
     "data": {
      "text/plain": [
       "2319    78.80\n",
       "3652     3.51\n",
       "2397     6.00\n",
       "3536    10.28\n",
       "4400     2.35\n",
       "5347     3.35\n",
       "2852    16.25\n",
       "4894     8.40\n",
       "1897     4.00\n",
       "3663     4.50\n",
       "3929    12.50\n",
       "820      1.79\n",
       "2140     8.10\n",
       "1953    13.35\n",
       "662      4.65\n",
       "4502    47.50\n",
       "5569     3.00\n",
       "3782     9.11\n",
       "234      2.50\n",
       "2237     5.99\n",
       "161     10.90\n",
       "5935     3.10\n",
       "3076    12.50\n",
       "5633     4.50\n",
       "5469     2.40\n",
       "3913     1.89\n",
       "4706    19.50\n",
       "368      2.90\n",
       "285      3.57\n",
       "4808     4.50\n",
       "        ...  \n",
       "2652    35.00\n",
       "4499    12.99\n",
       "2610     4.92\n",
       "919      8.65\n",
       "4604     3.15\n",
       "4716     5.00\n",
       "2800     3.10\n",
       "955      3.65\n",
       "1833     2.50\n",
       "4119     3.41\n",
       "5987     5.11\n",
       "5073    21.95\n",
       "306     20.26\n",
       "1548    29.98\n",
       "1736     3.30\n",
       "1249     4.50\n",
       "2796     9.00\n",
       "4916     6.75\n",
       "1913    20.12\n",
       "2377     3.90\n",
       "2712     3.42\n",
       "1731     2.10\n",
       "553      6.50\n",
       "3160     2.45\n",
       "2618     1.50\n",
       "4865     5.77\n",
       "3194    24.77\n",
       "1253     2.00\n",
       "1041     4.57\n",
       "1697     3.25\n",
       "Name: Price, Length: 1806, dtype: float64"
      ]
     },
     "execution_count": 589,
     "metadata": {},
     "output_type": "execute_result"
    }
   ],
   "source": [
    "y_test"
   ]
  },
  {
   "cell_type": "code",
   "execution_count": null,
   "metadata": {},
   "outputs": [],
   "source": []
  }
 ],
 "metadata": {
  "kernelspec": {
   "display_name": "Python 3",
   "language": "python",
   "name": "python3"
  },
  "language_info": {
   "codemirror_mode": {
    "name": "ipython",
    "version": 3
   },
   "file_extension": ".py",
   "mimetype": "text/x-python",
   "name": "python",
   "nbconvert_exporter": "python",
   "pygments_lexer": "ipython3",
   "version": "3.7.3"
  }
 },
 "nbformat": 4,
 "nbformat_minor": 2
}
